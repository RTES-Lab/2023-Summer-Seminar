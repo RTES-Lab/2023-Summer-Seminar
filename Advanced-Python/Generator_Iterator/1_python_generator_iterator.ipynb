{
  "nbformat": 4,
  "nbformat_minor": 0,
  "metadata": {
    "colab": {
      "provenance": []
    },
    "kernelspec": {
      "name": "python3",
      "display_name": "Python 3"
    },
    "language_info": {
      "name": "python"
    }
  },
  "cells": [
    {
      "cell_type": "markdown",
      "source": [
        "# 효율적인 코딩 및 파이썬 기능 활용 ( 함수, 이터레이터, 제너레이터)\n",
        "---\n",
        "## 1. __변수 대입 방법__\n",
        "#### 1) 언패킹\n",
        "##2. __함수__\n",
        "#### 1) 클로저\n",
        "##3. __컴프리헨션 및 제너레이터__\n",
        "#### 1) 컴프리헨션\n",
        "#### 2) 제너레이터"
      ],
      "metadata": {
        "id": "tk7F5QIG-uxc"
      }
    },
    {
      "cell_type": "markdown",
      "source": [
        "## 1. 변수 대입 방법\n",
        "---\n",
        "### 1) 언패킹\n",
        "\n",
        "* 패킹 : 여러 개의 데이터를 컬렉션으로 묶어 변수에 대입하는 것 <br>\n",
        " ex) numbers = [1,2,3,4,5]\n",
        "\n",
        "* 언패킹 : 컬렉션 속의 요소들을 여러 개의 변수에 나누어 대입 <br>\n",
        " ex) a,b,c,d,e = numbers        # a,b,c,d,e = [1,2,3,4,5]\n",
        "<br><br>\n",
        "* 대입하고 싶지 않은 요소는 관례적으로 _ 변수로 설정 <br>\n",
        " ex) a,b,c,_,d = [5,6,7,8,9] <br>\n",
        "   print(a,b,c,d) <br>\n",
        "   -> 5,6,7,9\n",
        "<br><br>\n",
        "* 언패킹을 사용하는 경우 임시 변수를 정의하지 않고도 값을 바꿀 수 있음 <br>\n",
        " ex) a[i]와 a[i-1]을 바꾸고 싶은 경우 <br>\n",
        " temp = a[i] <br>\n",
        " a[i] = a[i-1] <br>\n",
        " a[i-1] = temp <br>\n",
        " ↓ <br>\n",
        " a[i-1],a[i] = a[i], a[i-1]"
      ],
      "metadata": {
        "id": "_jOUtNNbAoqO"
      }
    },
    {
      "cell_type": "code",
      "source": [
        "%%time\n",
        "snacks = [('베이컨', 350), ('도넛', 240), ('머핀', 190)]\n",
        "\n",
        "for i in range(len(snacks)):\n",
        "    item = snacks[i]\n",
        "    name = item[0]\n",
        "    calories = item[1]\n",
        "    print(f'#{i+1}: {name} 은 {calories} 칼로리입니다.')"
      ],
      "metadata": {
        "id": "NjVbRGQyMILn",
        "colab": {
          "base_uri": "https://localhost:8080/"
        },
        "outputId": "d629aea3-8741-45ae-f028-243d40b0accf"
      },
      "execution_count": null,
      "outputs": [
        {
          "output_type": "stream",
          "name": "stdout",
          "text": [
            "#1: 베이컨 은 350 칼로리입니다.\n",
            "#2: 도넛 은 240 칼로리입니다.\n",
            "#3: 머핀 은 190 칼로리입니다.\n",
            "CPU times: user 1.65 ms, sys: 183 µs, total: 1.83 ms\n",
            "Wall time: 18.3 ms\n"
          ]
        }
      ]
    },
    {
      "cell_type": "markdown",
      "source": [
        "* 같은 기능을하는 함수를 enumerate 함수와 언패킹을 사용하여 만든 결과 코드길이와 수행시간 짧아졌음 <br>\n",
        " +) enumerate를 사용하는 경우 해당 변수의 인자들을 하나씩 접근할 수 있게 만들어줌"
      ],
      "metadata": {
        "id": "o5oMalVtjYek"
      }
    },
    {
      "cell_type": "code",
      "source": [
        "%%time\n",
        "for rank, (name, calories) in enumerate(snacks, 1):\n",
        "    print(f'#{rank}: {name} 은 {calories} 칼로리입니다.')"
      ],
      "metadata": {
        "colab": {
          "base_uri": "https://localhost:8080/"
        },
        "id": "5_2vV5pOiFVc",
        "outputId": "ce3d3ecd-557c-4354-b5c4-6ee0743f9816"
      },
      "execution_count": null,
      "outputs": [
        {
          "output_type": "stream",
          "name": "stdout",
          "text": [
            "#1: 베이컨 은 350 칼로리입니다.\n",
            "#2: 도넛 은 240 칼로리입니다.\n",
            "#3: 머핀 은 190 칼로리입니다.\n",
            "CPU times: user 1.91 ms, sys: 0 ns, total: 1.91 ms\n",
            "Wall time: 1.9 ms\n"
          ]
        }
      ]
    },
    {
      "cell_type": "markdown",
      "source": [
        "<br><br>"
      ],
      "metadata": {
        "id": "5otNWnKLm9pt"
      }
    },
    {
      "cell_type": "markdown",
      "source": [
        "## 2. 함수\n",
        "---\n",
        "### 1) 클로저\n",
        "\n",
        "* 파이썬에서 함수는 일급 객체로서, 변수에 할당할 수 있고 매개변수로 전달할 수 있으며, 리턴값으로도 사용될 수 있음<br><br>\n",
        "* 클로저 : 어떤 함수의 내부 함수가 외부 함수의 변수를 참조할 때, 외부 함수가 종료된 후에도 내부 함수가 외부 함수의 변수를 참조할 수 있도록 어딘가에 저장하는 함수를 의미<br><br>\n",
        "\n",
        "* 클로저는 다음 조건을 충족해야함<br>\n",
        " 1. 어떤 함수의 내부 함수일 것\n",
        " 2. 그 내부 함수가 외부 함수의 변수를 참조할 것\n",
        " 3. 외부 함수가 내부 함수를 리턴할 것"
      ],
      "metadata": {
        "id": "ycxhPzOwmXiT"
      }
    },
    {
      "cell_type": "code",
      "source": [
        "def hello(msg):\n",
        "    message = \"Hi, \" + msg\n",
        "    def say():\n",
        "        print(message)\n",
        "    return say\n",
        "\n",
        "f = hello(\"Fox\") # => f=say\n",
        "f()"
      ],
      "metadata": {
        "colab": {
          "base_uri": "https://localhost:8080/"
        },
        "id": "YHWnczMUyOps",
        "outputId": "9ddced51-2b53-4b8e-d4ef-01a510e2d2e6"
      },
      "execution_count": null,
      "outputs": [
        {
          "output_type": "stream",
          "name": "stdout",
          "text": [
            "Hi, Fox\n"
          ]
        }
      ]
    },
    {
      "cell_type": "markdown",
      "source": [
        "* 수행과정<br>\n",
        " 1. hello 함수에 “Fox”를 매개 변수 값으로 넘겨주며 실행\n",
        " 2. message 변수에 매개변수를 이용하여 “Hi, Fox”라는 문자열 저장\n",
        " 3. say 함수가 message를 참조\n",
        " 4. say 함수 리턴\n",
        " 5. f 변수가 say 함수 참조\n",
        " 6. f 변수 실행(say함수 실행)\n",
        " 7. f 변수는 message 변수를 출력\n",
        "\n",
        "> 4단계에서 hello 함수는 역할을 마치고 종료되었고 메모리에서도 삭제되었음\n",
        "내부 변수인 message도 함께 삭제 되어야 하지만 6,7 단계에서 message 변수를 참조해서 출력\n",
        "\n",
        ">> 클로저가 생성되었기 때문에 가능 : 중첩 함수인 say 함수가 외부 함수인 hello의 변수 message를 참조하기때문에 message 변수와 say의 환경을 저장하는 클로저가 동적으로 생성되었고 f 가 실행될 때는 해당 클로저를 참조하여 message 값을 출력할 수 있는 것. 해당 클로저는 f 변수에 say 함수가 할당될 때 생성됨."
      ],
      "metadata": {
        "id": "s4yNYtDDyZWr"
      }
    },
    {
      "cell_type": "code",
      "source": [
        "dir(f) # f에 존재하는 변수명, 함수명, 클래스 이름을 출력"
      ],
      "metadata": {
        "colab": {
          "base_uri": "https://localhost:8080/"
        },
        "id": "PRvxKvBHzFV_",
        "outputId": "5f98696e-e923-4302-93bf-af2d6eaef3ae"
      },
      "execution_count": null,
      "outputs": [
        {
          "output_type": "execute_result",
          "data": {
            "text/plain": [
              "['__annotations__',\n",
              " '__builtins__',\n",
              " '__call__',\n",
              " '__class__',\n",
              " '__closure__',\n",
              " '__code__',\n",
              " '__defaults__',\n",
              " '__delattr__',\n",
              " '__dict__',\n",
              " '__dir__',\n",
              " '__doc__',\n",
              " '__eq__',\n",
              " '__format__',\n",
              " '__ge__',\n",
              " '__get__',\n",
              " '__getattribute__',\n",
              " '__globals__',\n",
              " '__gt__',\n",
              " '__hash__',\n",
              " '__init__',\n",
              " '__init_subclass__',\n",
              " '__kwdefaults__',\n",
              " '__le__',\n",
              " '__lt__',\n",
              " '__module__',\n",
              " '__name__',\n",
              " '__ne__',\n",
              " '__new__',\n",
              " '__qualname__',\n",
              " '__reduce__',\n",
              " '__reduce_ex__',\n",
              " '__repr__',\n",
              " '__setattr__',\n",
              " '__sizeof__',\n",
              " '__str__',\n",
              " '__subclasshook__']"
            ]
          },
          "metadata": {},
          "execution_count": 7
        }
      ]
    },
    {
      "cell_type": "markdown",
      "source": [
        "*  '__closure__' 튜플은 모든 함수 객체가 가지고 있지만 조건을 만족하지 않아 클로저가 생성되지 않으면 그 값은 None으로 고정"
      ],
      "metadata": {
        "id": "w9RfqZWI1SNw"
      }
    },
    {
      "cell_type": "code",
      "source": [
        "import inspect\n",
        "inspect.getclosurevars(f).nonlocals    # 함수 f의 클로저가 참조하는 외부 범위의 변수들에 대한 정보 확인"
      ],
      "metadata": {
        "colab": {
          "base_uri": "https://localhost:8080/"
        },
        "id": "O3GJZeR3zOj6",
        "outputId": "d87b9608-c559-4fc9-fa83-1feda44eb305"
      },
      "execution_count": null,
      "outputs": [
        {
          "output_type": "execute_result",
          "data": {
            "text/plain": [
              "{'message': 'Hi, Fox'}"
            ]
          },
          "metadata": {},
          "execution_count": 38
        }
      ]
    },
    {
      "cell_type": "code",
      "source": [
        "def sort_priority(values, group):\n",
        "    def helper(x):\n",
        "        if x in group:\n",
        "            return (0, x)\n",
        "        return (1, x)\n",
        "    values.sort(key=helper)\n",
        "\n",
        "\n",
        "numbers = [8, 3, 1, 2, 5, 4, 7, 6]\n",
        "group = {2, 5, 3, 7}\n",
        "sort_priority(numbers, group)\n",
        "print(numbers)"
      ],
      "metadata": {
        "colab": {
          "base_uri": "https://localhost:8080/"
        },
        "id": "uU31elFNiKX1",
        "outputId": "9339f1e2-5a09-4a15-c1fa-bd44ec6af0e8"
      },
      "execution_count": null,
      "outputs": [
        {
          "output_type": "stream",
          "name": "stdout",
          "text": [
            "[2, 3, 5, 7, 1, 4, 6, 8]\n"
          ]
        }
      ]
    },
    {
      "cell_type": "markdown",
      "source": [
        "> 의도한 대로 잘 작동하는 이유 <br>\n",
        " 1. 파이썬이 클로저를 지원 : 클로저란 자신이 정의된 영역 밖의 변수를 참조하는 함수, 이로 인해 helper함수가 sort_priority의 group 인자에 접근 가능  <br><br>\n",
        " 2. 파이썬에서 함수는 일급 객체로서, 변수에 할당할 수 있고, 매개 변수로 전달할 수 있으며 리턴값으로도 사용가능 <br><br>\n",
        " 3.파이썬에서 시퀀스를 비교할 때 0번 인덱스 값을 비교한 뒤 이 값이 같은 경우 다시 1번 인덱스에 있는 값을 비교"
      ],
      "metadata": {
        "id": "br_UYAIAoloG"
      }
    },
    {
      "cell_type": "markdown",
      "source": [
        "* 장점 : <br>무분별한 전역변수 사용을 방지할 수 있음 -\n",
        "클로저 대신 전역변수를 선언하여 사용할 수는 있으나 이렇게 되면 변수가 섞일 수도 있고 변수의 책임범위를 명확하게 할 수 없는 문제가 발생할 수 있음 <br><br>\n",
        "외부 함수의 실행이 종료되더라도 클로저가 참조하는 변수들이 사라지지 않고 유지되므로, 이후에 클로저가 호출될 때에도 변수들에 접근할 수 있음. 이는 필요한 상태만 유지하면서 메모리 사용을 최소화<br><br>"
      ],
      "metadata": {
        "id": "Zry7TsVX1pE-"
      }
    },
    {
      "cell_type": "markdown",
      "source": [
        "## 3. 컴프리헨션 및 제너레이터\n",
        "---\n",
        "### 1) 컴프리헨션\n",
        "\n",
        "* 컴프리헨션 : 파이썬의 자료구조에 데이터를 좀 더 쉽고 간결하게 담기 위한 문법<br>\n",
        "* 사용법 : 리스트의 경우, 대괄호([ ])로 감싼 뒤 내부에 for 문과 if 문을 사용하여 조건에 만족하는 값만 리스트로 생성\n",
        "* 장점 : 직관적, 코드 길이, 동작 속도 감소"
      ],
      "metadata": {
        "id": "NWYPmGKYc0av"
      }
    },
    {
      "cell_type": "code",
      "source": [
        "a = [1, 2, 3, 4, 5, 6, 7, 8, 9, 10]"
      ],
      "metadata": {
        "id": "9V1pYGY9lD4o"
      },
      "execution_count": null,
      "outputs": []
    },
    {
      "cell_type": "code",
      "source": [
        "# 리스트 컴프리헨션 사용하지 않는 경우\n",
        "%%time\n",
        "squares = []\n",
        "for x in a:\n",
        "    squares.append(x**2)\n",
        "print(squares)"
      ],
      "metadata": {
        "colab": {
          "base_uri": "https://localhost:8080/"
        },
        "id": "mTsTul5ikftH",
        "outputId": "08d38576-fe7c-4a90-cfb3-b56d16f34917"
      },
      "execution_count": null,
      "outputs": [
        {
          "output_type": "stream",
          "name": "stdout",
          "text": [
            "[1, 4, 9, 16, 25, 36, 49, 64, 81, 100]\n",
            "CPU times: user 1.07 ms, sys: 4 µs, total: 1.07 ms\n",
            "Wall time: 1.08 ms\n"
          ]
        }
      ]
    },
    {
      "cell_type": "code",
      "source": [
        "# 리스트 컴프리헨션 사용하는 경우\n",
        "%%time\n",
        "squares = [x**2 for x in a]\n",
        "print(squares)"
      ],
      "metadata": {
        "colab": {
          "base_uri": "https://localhost:8080/"
        },
        "id": "1sGuJjiHkjVm",
        "outputId": "9778d215-0e54-4984-d98e-569dc5599552"
      },
      "execution_count": null,
      "outputs": [
        {
          "output_type": "stream",
          "name": "stdout",
          "text": [
            "[1, 4, 9, 16, 25, 36, 49, 64, 81, 100]\n",
            "CPU times: user 939 µs, sys: 0 ns, total: 939 µs\n",
            "Wall time: 948 µs\n"
          ]
        }
      ]
    },
    {
      "cell_type": "markdown",
      "source": [
        "* 컴프리헨션문 안에는 여러 개의 for문, if문이 올 수 있음 (중첩 가능)"
      ],
      "metadata": {
        "id": "3PjU4fG2lM2v"
      }
    },
    {
      "cell_type": "code",
      "source": [
        "data = []\n",
        "for i in range(1, 11):\n",
        "    if i % 2 == 0:\n",
        "        data.append(i)\n",
        "\n",
        "# 컴프리헨션 사용하여 작성\n",
        "data = [i for i in range(1, 11) if i % 2 == 0]"
      ],
      "metadata": {
        "id": "q7zzbbg-lKig"
      },
      "execution_count": null,
      "outputs": []
    },
    {
      "cell_type": "code",
      "source": [
        "data2 = []\n",
        "for i in range(1,6):\n",
        "    for j in range(1,4):\n",
        "        data2.append((i,j))\n",
        "\n",
        "# 컴프리헨션 사용하여 작성\n",
        "data2 = [(i,j) for i in range(1,6) for j in range(1,4)]"
      ],
      "metadata": {
        "id": "RZO_K56EmU54"
      },
      "execution_count": null,
      "outputs": []
    },
    {
      "cell_type": "code",
      "source": [
        "# 번외 : 간단한 나열의 경우 range 이용하여 리스트 생성 가능 <- 조건 및 함수 적용이 제한적\n",
        "list(range(5))"
      ],
      "metadata": {
        "colab": {
          "base_uri": "https://localhost:8080/"
        },
        "id": "Bq8KYbNBlHG1",
        "outputId": "236b9a4d-8221-4502-b379-f44de15dc920"
      },
      "execution_count": null,
      "outputs": [
        {
          "output_type": "execute_result",
          "data": {
            "text/plain": [
              "[0, 1, 2, 3, 4]"
            ]
          },
          "metadata": {},
          "execution_count": 25
        }
      ]
    },
    {
      "cell_type": "markdown",
      "source": [
        "* 딕셔너리 컴프리헨션, 집합 컴프리헨션, 제너레이터 컴프리헨션은 다음과 같이 작성 가능"
      ],
      "metadata": {
        "id": "Jqv5RdAJmVJu"
      }
    },
    {
      "cell_type": "code",
      "source": [
        "even_squares_dict = {x: x**2 for x in a if x % 2 == 0}\n",
        "threes_cubed_set = {x**3 for x in a if x % 3 == 0}\n",
        "print(even_squares_dict)\n",
        "print(threes_cubed_set)\n",
        "\n",
        "# +) 제너레이터 컴프리헨션도 존재\n",
        "simple_generator = (i+10 for i in range(10))\n",
        "print(simple_generator)"
      ],
      "metadata": {
        "colab": {
          "base_uri": "https://localhost:8080/"
        },
        "id": "Ch25xQinmlT2",
        "outputId": "d2a54762-6ffb-425b-b6a4-7b1b51c6a24b"
      },
      "execution_count": null,
      "outputs": [
        {
          "output_type": "stream",
          "name": "stdout",
          "text": [
            "{2: 4, 4: 16, 6: 36, 8: 64, 10: 100}\n",
            "{216, 729, 27}\n",
            "<generator object <genexpr> at 0x7bd720e89fc0>\n"
          ]
        }
      ]
    },
    {
      "cell_type": "markdown",
      "source": [
        "* 입력의 길이가 긴 상황에서 리스트 컴프리헨션을 사용하는 경우, 메모리를 상당히 많이 사용하고 그로 인해 프로그램이 중단 될 수 있음 -> 제너레이터 컴프리헨션을 쓰는 것이 더 효율적이다."
      ],
      "metadata": {
        "id": "TQRukBhDUYkl"
      }
    },
    {
      "cell_type": "markdown",
      "source": [
        "<br><br>"
      ],
      "metadata": {
        "id": "j2BM-e98nArV"
      }
    },
    {
      "cell_type": "markdown",
      "source": [
        "### 2) 제너레이터\n",
        "\n",
        "* 제너레이터 : 이터레이터(반복자)를 만드는 함수\n",
        "\n",
        "* 이터레이터 : 객체가 가진 각 요소에 순차적으로 접근 할 수 있게 해주는 도구\n",
        "\n",
        "* 어떤 함수의 결과를 시퀀스 형태로 나타내고 싶을 때 사용하는 가장 간단한 방법은 리스트를 이용하여 반환하는 것"
      ],
      "metadata": {
        "id": "Lj-eB9QajnG2"
      }
    },
    {
      "cell_type": "code",
      "source": [
        "# 문자열에서 찾은 단어의 인덱스를 반환\n",
        "def index_words(text):\n",
        "    result = []\n",
        "    if text:\n",
        "        result.append(0)\n",
        "    for index, letter in enumerate(text):\n",
        "        if letter == ' ':\n",
        "            result.append(index + 1)\n",
        "    return result\n",
        "\n",
        "text = '컴퓨터(영어: Computer, 문화어: 콤퓨터, 순화어:전산기)는 진공관'\n",
        "result = index_words(text)\n",
        "print(result[:10])"
      ],
      "metadata": {
        "id": "7gTYcYiUqt9O",
        "colab": {
          "base_uri": "https://localhost:8080/"
        },
        "outputId": "96064ddc-e729-4423-808e-1f5aa6df2e8a"
      },
      "execution_count": null,
      "outputs": [
        {
          "output_type": "stream",
          "name": "stdout",
          "text": [
            "[0, 8, 18, 23, 28, 38]\n"
          ]
        }
      ]
    },
    {
      "cell_type": "markdown",
      "source": [
        "* 그러나 이와 같은 방식으로 동작을 수행하는 경우의 문제점 2가지가 존재함<br>\n",
        " 1. 코드의 가독성이 떨어짐 <br>\n",
        " 2. 반환하기 전에 리스트에 모든 결과를 append 및 저장 <br> -> 입력이 매우 크면 프로그램이 메모리를 소진해서 중단될 수 있음<br><br>\n",
        "* 이를 개선하기 위한 방법으로 제너레이터를 사용"
      ],
      "metadata": {
        "id": "Fh60-DQZeJrP"
      }
    },
    {
      "cell_type": "code",
      "source": [
        "# text 한줄을 대상으로 작성한 코드 (return 대신 yield 사용)\n",
        "def index_words_iter(text):\n",
        "    if text:\n",
        "        yield 0\n",
        "    for index, letter in enumerate(text):\n",
        "        if letter == ' ':\n",
        "            yield index + 1\n",
        "\n",
        "# text가 여러줄을 가진 파일을 대상을 작성한 코드 -> 작업 메모리가 입력 중 가장 긴 줄의 길이로 제한\n",
        "def index_file(handle):\n",
        "    offset = 0\n",
        "    for line in handle:\n",
        "        if line:\n",
        "            yield offset\n",
        "        for letter in line:\n",
        "            offset += 1\n",
        "            if letter == ' ':\n",
        "                yield offset\n",
        "\n",
        "# 일반적인 방법\n",
        "# def traditional_method(handle):\n",
        "#     lines = [handle.split('\\n')]\n",
        "#     for line in lines:\n",
        "#         ..."
      ],
      "metadata": {
        "id": "-y4EeayfdyLQ"
      },
      "execution_count": null,
      "outputs": []
    },
    {
      "cell_type": "markdown",
      "source": [
        "* 해당 함수가 호출되는 경우 제너레이터 함수가 실제로 실행되지 않고 즉시 이터레이터를 반환\n",
        "\n",
        "* 해당 이터레이터가 next 함수를 호출할 때마다 이터레이터는 제너레이터 함수를 다음 yield 식 까지 진행시킴 <br>\n",
        "함수가 끝나는 경우 StopIteration 예외를 발생시킴\n",
        "\n",
        "* iterable : 반복 가능한 객체 (제너레이터의 인자)<br>\n",
        " iterator : next 함수를 사용하여 차례대로 값을 꺼낼 수 있는 객체 (제너레이터의 출력값)"
      ],
      "metadata": {
        "id": "QV46tCsQfHsW"
      }
    },
    {
      "cell_type": "code",
      "source": [
        "text = '컴퓨터(영어: Computer, 문화어: 콤퓨터, 순화어:전산기)는 진공관'\n",
        "it = index_words_iter(text)\n",
        "print(it)\n",
        "print(next(it))\n",
        "print(next(it))\n",
        "\n",
        "# 제너레이터가 반환하는 이터레이터를 리스트 함수에 넣으면 제너레이터를 쉽게 리스트로 변환 가능\n",
        "# result = list(index_words_iter(address))\n",
        "# print(result[:10])"
      ],
      "metadata": {
        "colab": {
          "base_uri": "https://localhost:8080/"
        },
        "id": "OqjRCO6SfG3w",
        "outputId": "8b401b2d-580b-410b-f751-15dc2ea26d4c"
      },
      "execution_count": null,
      "outputs": [
        {
          "output_type": "stream",
          "name": "stdout",
          "text": [
            "<generator object index_words_iter at 0x7bd6e2f97bc0>\n",
            "0\n",
            "8\n"
          ]
        }
      ]
    },
    {
      "cell_type": "code",
      "source": [
        "print(list(it))\n",
        "print(list(it))"
      ],
      "metadata": {
        "colab": {
          "base_uri": "https://localhost:8080/"
        },
        "id": "D0nc_EJD9JYC",
        "outputId": "226f5381-bc51-4fd5-8eee-00e0ef26e152"
      },
      "execution_count": null,
      "outputs": [
        {
          "output_type": "stream",
          "name": "stdout",
          "text": [
            "[18, 23, 28, 38]\n",
            "[]\n"
          ]
        }
      ]
    },
    {
      "cell_type": "markdown",
      "source": [
        "* 제너레이터의 장점<br>\n",
        "1. 제너레이터는 큰 크기를 갖는 데이터를 대상으로 동작을 실행할 때 메모리 용량을 적게 사용함"
      ],
      "metadata": {
        "id": "IAkhPSdK7MBD"
      }
    },
    {
      "cell_type": "code",
      "source": [
        "import sys\n",
        "test_num = 10000000\n",
        "generator1 = (i for i in range(test_num))\n",
        "list1 = list(range(test_num))\n",
        "\n",
        "print('generator1의 용량 :', sys.getsizeof(generator1))  # 메모리 사이즈 반환\n",
        "print('list1의 용량 :', sys.getsizeof(list1))"
      ],
      "metadata": {
        "colab": {
          "base_uri": "https://localhost:8080/"
        },
        "id": "LQGmO28n7ZFs",
        "outputId": "12d47263-8a76-416c-e54e-a7d856256fcc"
      },
      "execution_count": null,
      "outputs": [
        {
          "output_type": "stream",
          "name": "stdout",
          "text": [
            "generator1의 용량 : 104\n",
            "list1의 용량 : 80000056\n"
          ]
        }
      ]
    },
    {
      "cell_type": "markdown",
      "source": [
        "* 단점<br>\n",
        "1. 제너레이터는 일방향으로 진행되기 때문에 이전 변수를 참조하기 어려움 <br>\n",
        "2. 계산 속도가 일반적으로 느림"
      ],
      "metadata": {
        "id": "CAOdlck0phas"
      }
    },
    {
      "cell_type": "markdown",
      "source": [
        "+) 추가적으로 iter 함수를 사용하여 이터레이터를 만들 수 있음"
      ],
      "metadata": {
        "id": "oLcJibZA5meB"
      }
    },
    {
      "cell_type": "code",
      "source": [
        "# iter 함수를 사용 (리스트, 튜플, 딕셔너리에서 사용 가능)\n",
        "list1 = [1,2,3,4,5]\n",
        "i=iter(list1)\n",
        "print(next(i))\n",
        "print(next(i))\n",
        "print(next(i))"
      ],
      "metadata": {
        "id": "t3O_awip5yar"
      },
      "execution_count": null,
      "outputs": []
    },
    {
      "cell_type": "markdown",
      "source": [
        "* 이터레이션 프로토콜 <br>\n",
        "파이썬의 for 루프나 그와 연관된 식들이 컨테이너 타입의 내용을 방문할 때 사용하는 절차를 의미 <br><br>\n",
        "for x in foo 와 같은 구문 사용하면, 실제로 foo.\\_\\_iter__라는 특별 메서드를 호출하여 이터레이터 객체가 데이터를 소진할 떄까지 next 내장 함수를 호출 <br><br>\n",
        "'\\_\\_iter__', '\\_\\_next__' 메서드를 사용하여 이터레이터 생성 가능"
      ],
      "metadata": {
        "id": "MXZWHLZa7UsS"
      }
    },
    {
      "cell_type": "code",
      "source": [
        "class Counter:\n",
        "    def __init__(self, stop):\n",
        "        self.current = 0\n",
        "        self.stop = stop\n",
        "\n",
        "    def __iter__(self):\n",
        "        return self\n",
        "\n",
        "    def __next__(self):\n",
        "        if self.current < self.stop:\n",
        "            r = self.current\n",
        "            self.current += 1\n",
        "            return r\n",
        "        else:\n",
        "            raise StopIteration\n",
        "\n",
        "for i in Counter(3):\n",
        "    print(i, end=' ')\n",
        "\n",
        "# it = Counter(3)\n",
        "# next(it)\n",
        "# next(it)\n",
        "# next(it)"
      ],
      "metadata": {
        "colab": {
          "base_uri": "https://localhost:8080/"
        },
        "id": "vtori9_9qYgG",
        "outputId": "846b9b87-7773-421a-d996-2c8df1dd73f8"
      },
      "execution_count": null,
      "outputs": [
        {
          "output_type": "stream",
          "name": "stdout",
          "text": [
            "0 1 2 "
          ]
        }
      ]
    },
    {
      "cell_type": "markdown",
      "source": [
        "* 여러 제너레이터를 함께 사용하는 경우 yield 대신 yield from을 사용하면 코드 가독성과 성능이 향상됨"
      ],
      "metadata": {
        "id": "-QqKn4mJr4PZ"
      }
    },
    {
      "cell_type": "code",
      "source": [
        "def move(period, speed):\n",
        "    for _ in range(period):\n",
        "        yield speed\n",
        "\n",
        "def pause(delay):\n",
        "    for _ in range(delay):\n",
        "        yield 0\n",
        "\n",
        "# yield 사용\n",
        "def animate():\n",
        "    for delta in move(4, 5.0):\n",
        "        yield delta\n",
        "    for delta in pause(3):\n",
        "        yield delta\n",
        "    for delta in move(2, 3.0):\n",
        "        yield delta\n",
        "\n",
        "# yield from 사용\n",
        "def animate_composed():\n",
        "    yield from move(4, 5.0)\n",
        "    yield from pause(3)\n",
        "    yield from move(2, 3.0)"
      ],
      "metadata": {
        "id": "2_TxlZO-9rqN"
      },
      "execution_count": null,
      "outputs": []
    },
    {
      "cell_type": "code",
      "source": [
        "def code1():\n",
        "    for x in animate():\n",
        "        pass\n",
        "\n",
        "%timeit code1()"
      ],
      "metadata": {
        "colab": {
          "base_uri": "https://localhost:8080/"
        },
        "id": "TB60DtBZuXcZ",
        "outputId": "b26c20cc-412c-424c-e2b7-fd427b1d156f"
      },
      "execution_count": null,
      "outputs": [
        {
          "output_type": "stream",
          "name": "stdout",
          "text": [
            "1.21 µs ± 248 ns per loop (mean ± std. dev. of 7 runs, 1000000 loops each)\n"
          ]
        }
      ]
    },
    {
      "cell_type": "code",
      "source": [
        "def code2():\n",
        "    for x in animate_composed():\n",
        "        pass\n",
        "\n",
        "%timeit code2()"
      ],
      "metadata": {
        "colab": {
          "base_uri": "https://localhost:8080/"
        },
        "id": "wlEgWOPyuwgR",
        "outputId": "dfbf37eb-960c-46a0-bc9d-bb806d50f5eb"
      },
      "execution_count": null,
      "outputs": [
        {
          "output_type": "stream",
          "name": "stdout",
          "text": [
            "1.18 µs ± 237 ns per loop (mean ± std. dev. of 7 runs, 1000000 loops each)\n"
          ]
        }
      ]
    }
  ]
}